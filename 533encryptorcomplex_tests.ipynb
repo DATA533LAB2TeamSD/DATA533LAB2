{
 "cells": [
  {
   "cell_type": "code",
   "execution_count": 3,
   "metadata": {},
   "outputs": [
    {
     "name": "stdout",
     "output_type": "stream",
     "text": [
      "The encrypted message is : \n",
      " $Ykvjkp Ocp‛u okpf oqogpvqwu gpgti{\f",
      "Ku uvqtgf. gpet{rvgf. yckvkpi hqt vjg fc{\f",
      "Vjg mctoke mg{ ku hqwpf. ocumu ujgf cyc{0\f",
      "Jqygxgt. yjkng yg)tg yckvkpi. dnkpfn{ yg\f",
      "Kp kppgt vwtoqkn uoqvjgt nkdgtv{. \f",
      "Pqt uggm vq ujctg vjg ugetgvu qh vjg Yc{0\f",
      "Gcej kp jku egnn ngvu ecpegt urtgcf0 Yjq oc{\f",
      "Cnnqy uqwn urceg vq uwthceg hqtegu htggA \f",
      "Etgcvkxg nkpmu yg mggr eqphkpgf. kp hgg.\f",
      "Jctpguugf qxgt nkhgvkogu. mgrv cv dc{0\f",
      "Okpf cpf ocvvgt. ugrctcvgf. uvc{\f",
      "Kp cdg{cpeg. ucf hwvknkv{0\f",
      "Pcvwtg‛u eqfgu yg oc{ qpg fc{ fget{rv. \f",
      "Fgcnkpi Fgcvj c fgcvj/dnqyp. ujcfqy‛u et{rv0\n",
      "\n",
      " The decrypted message is : \n",
      " \"Within Man’s mind momentous energy\n",
      "Is stored, encrypted, waiting for the day\n",
      "The karmic key is found, masks shed away.\n",
      "However, while we're waiting, blindly we\n",
      "In inner turmoil smother liberty, \n",
      "Nor seek to share the secrets of the Way.\n",
      "Each in his cell lets cancer spread. Who may\n",
      "Allow soul space to surface forces free? \n",
      "Creative links we keep confined, in fee,\n",
      "Harnessed over lifetimes, kept at bay.\n",
      "Mind and matter, separated, stay\n",
      "In abeyance, sad futility.\n",
      "Nature’s codes we may one day decrypt, \n",
      "Dealing Death a death-blown, shadow’s crypt.\n"
     ]
    }
   ],
   "source": [
    "from encryption.complex_Encryption import sub\n",
    "\n",
    "text = \"\"\"\"Within Man’s mind momentous energy\n",
    "Is stored, encrypted, waiting for the day\n",
    "The karmic key is found, masks shed away.\n",
    "However, while we're waiting, blindly we\n",
    "In inner turmoil smother liberty, \n",
    "Nor seek to share the secrets of the Way.\n",
    "Each in his cell lets cancer spread. Who may\n",
    "Allow soul space to surface forces free? \n",
    "Creative links we keep confined, in fee,\n",
    "Harnessed over lifetimes, kept at bay.\n",
    "Mind and matter, separated, stay\n",
    "In abeyance, sad futility.\n",
    "Nature’s codes we may one day decrypt, \n",
    "Dealing Death a death-blown, shadow’s crypt.\"\"\"\n",
    "\n",
    "e = sub.Encr(text,2)\n",
    "en = e.display()\n",
    "print(\"The encrypted message is : \\n\",e.display())\n",
    "d = sub.Decr(en,2)\n",
    "print(\"\\n The decrypted message is : \\n\",d.display())"
   ]
  },
  {
   "cell_type": "code",
   "execution_count": 4,
   "metadata": {},
   "outputs": [
    {
     "name": "stdout",
     "output_type": "stream",
     "text": [
      "The encrypted message is : \n",
      " ao,r Irn,'steslwto .n pmanncpd.dsol e\n",
      "my nd,enaiee w htlsh ,ani h i\n",
      "wt’ismt\n",
      "e ey .ereciriihnh fo,eo\n",
      "ds\n",
      "ttneeaeeerw f eoe enpmtis  wse  eactdmns,awweeescbte ricai a\n",
      "ieeespoaasr\n",
      "koaehy  e’cetutaa ff etuan\" idc\n",
      "n\n",
      "t, eet s  arsyleem WiDsnA,ydgd ea\n",
      "Drcycaoireawvrn a,fefoo?yudl,mat.aeny iudlIsedr lisnskwoymytsll. Nyra  mus m \n",
      "aiMa.t ime  a r erdhW t  eye,foefwinngfE or  ryw uo dtlnked  a cse ney kaerends sTndarsireNnebec-h eed slavhihrfrkahihi tit coe thbe tsoatihoo oyl d l tgevakto r bH,yahWrsCteroe,pinyurlcdcsnt kMaelbtgas’csI  wprp\n",
      " lnH e   ps\n",
      ",t\n"
     ]
    }
   ],
   "source": [
    "from encryption.complex_Encryption import tran\n",
    "\n",
    "text = \"\"\"\"Within Man’s mind momentous energy\n",
    "Is stored, encrypted, waiting for the day\n",
    "The karmic key is found, masks shed away.\n",
    "However, while we're waiting, blindly we\n",
    "In inner turmoil smother liberty, \n",
    "Nor seek to share the secrets of the Way.\n",
    "Each in his cell lets cancer spread. Who may\n",
    "Allow soul space to surface forces free? \n",
    "Creative links we keep confined, in fee,\n",
    "Harnessed over lifetimes, kept at bay.\n",
    "Mind and matter, separated, stay\n",
    "In abeyance, sad futility.\n",
    "Nature’s codes we may one day decrypt, \n",
    "Dealing Death a death-blown, shadow’s crypt.\"\"\"\n",
    "\n",
    "print(\"The encrypted message is : \\n\",tran.tran(text))"
   ]
  },
  {
   "cell_type": "code",
   "execution_count": null,
   "metadata": {},
   "outputs": [],
   "source": []
  }
 ],
 "metadata": {
  "kernelspec": {
   "display_name": "Python 3",
   "language": "python",
   "name": "python3"
  },
  "language_info": {
   "codemirror_mode": {
    "name": "ipython",
    "version": 3
   },
   "file_extension": ".py",
   "mimetype": "text/x-python",
   "name": "python",
   "nbconvert_exporter": "python",
   "pygments_lexer": "ipython3",
   "version": "3.6.5"
  }
 },
 "nbformat": 4,
 "nbformat_minor": 2
}
