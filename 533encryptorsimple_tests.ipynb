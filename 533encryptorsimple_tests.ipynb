{
 "cells": [
  {
   "cell_type": "code",
   "execution_count": 3,
   "metadata": {},
   "outputs": [
    {
     "name": "stdout",
     "output_type": "stream",
     "text": [
      "The encrypted message is: crypt. shadow’s death-blown, a Death Dealing decrypt, day one may we codes Nature’s futility. sad abeyance, In stay separated, matter, and Mind bay. at kept lifetimes, over Harnessed fee, in confined, keep we links Creative free? forces surface to space soul Allow may Who spread. cancer lets cell his in Each Way. the of secrets the share to seek Nor liberty, smother turmoil inner In we blindly waiting, we're while However, away. shed masks found, is key karmic The day the for waiting encrypted, stored, Is energy momentous mind Man’s \"Within\n"
     ]
    }
   ],
   "source": [
    "from encryptor.encrysimple import mirror\n",
    "\n",
    "text = \"\"\"\"Within Man’s mind momentous energy\n",
    "Is stored, encrypted, waiting for the day\n",
    "The karmic key is found, masks shed away.\n",
    "However, while we're waiting, blindly we\n",
    "In inner turmoil smother liberty, \n",
    "Nor seek to share the secrets of the Way.\n",
    "Each in his cell lets cancer spread. Who may\n",
    "Allow soul space to surface forces free? \n",
    "Creative links we keep confined, in fee,\n",
    "Harnessed over lifetimes, kept at bay.\n",
    "Mind and matter, separated, stay\n",
    "In abeyance, sad futility.\n",
    "Nature’s codes we may one day decrypt, \n",
    "Dealing Death a death-blown, shadow’s crypt.\"\"\"\n",
    "m = mirror.Mirror(text)\n",
    "m.text_revmirror()"
   ]
  },
  {
   "cell_type": "code",
   "execution_count": 4,
   "metadata": {},
   "outputs": [
    {
     "name": "stdout",
     "output_type": "stream",
     "text": [
      "The encrypted message is:   . t p y r c   s ’ w o d a h s   , n w o l b - h t a e d   a   h t a e D   g n i l a e D \n",
      "   , t p y r c e d   y a d   e n o   y a m   e w   s e d o c   s ’ e r u t a N \n",
      " . y t i l i t u f   d a s   , e c n a y e b a   n I \n",
      " y a t s   , d e t a r a p e s   , r e t t a m   d n a   d n i M \n",
      " . y a b   t a   t p e k   , s e m i t e f i l   r e v o   d e s s e n r a H \n",
      "   , e e f   n i   , d e n i f n o c   p e e k   e w   s k n i l   e v i t a e r C \n",
      "   ? e e r f   s e c r o f   e c a f r u s   o t   e c a p s   l u o s   w o l l A \n",
      " y a m   o h W   . d a e r p s   r e c n a c   s t e l   l l e c   s i h   n i   h c a E \n",
      " . y a W   e h t   f o   s t e r c e s   e h t   e r a h s   o t   k e e s   r o N \n",
      "   , y t r e b i l   r e h t o m s   l i o m r u t   r e n n i   n I \n",
      " e w   y l d n i l b   , g n i t i a w   e r ' e w   e l i h w   , r e v e w o H \n",
      " . y a w a   d e h s   s k s a m   , d n u o f   s i   y e k   c i m r a k   e h T \n",
      " y a d   e h t   r o f   g n i t i a w   , d e t p y r c n e   , d e r o t s   s I \n",
      " y g r e n e   s u o t n e m o m   d n i m   s ’ n a M   n i h t i W Sorry this is a private message if you do not have a key STOP reading!\n"
     ]
    }
   ],
   "source": [
    "from encryptor.encrysimple import mirrorsquared\n",
    "text = \"\"\"Within Man’s mind momentous energy\n",
    "Is stored, encrypted, waiting for the day\n",
    "The karmic key is found, masks shed away.\n",
    "However, while we're waiting, blindly we\n",
    "In inner turmoil smother liberty, \n",
    "Nor seek to share the secrets of the Way.\n",
    "Each in his cell lets cancer spread. Who may\n",
    "Allow soul space to surface forces free? \n",
    "Creative links we keep confined, in fee, \n",
    "Harnessed over lifetimes, kept at bay.\n",
    "Mind and matter, separated, stay\n",
    "In abeyance, sad futility.\n",
    "Nature’s codes we may one day decrypt, \n",
    "Dealing Death a death-blown, shadow’s crypt. \"\"\"\n",
    "\n",
    "m = mirrorsquared.MirrorSquared(text)\n",
    "m.text_revsquared()"
   ]
  },
  {
   "cell_type": "code",
   "execution_count": null,
   "metadata": {},
   "outputs": [],
   "source": []
  }
 ],
 "metadata": {
  "kernelspec": {
   "display_name": "Python 3",
   "language": "python",
   "name": "python3"
  },
  "language_info": {
   "codemirror_mode": {
    "name": "ipython",
    "version": 3
   },
   "file_extension": ".py",
   "mimetype": "text/x-python",
   "name": "python",
   "nbconvert_exporter": "python",
   "pygments_lexer": "ipython3",
   "version": "3.6.5"
  }
 },
 "nbformat": 4,
 "nbformat_minor": 2
}
